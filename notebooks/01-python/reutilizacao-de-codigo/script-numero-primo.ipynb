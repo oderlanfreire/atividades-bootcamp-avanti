{
 "cells": [
  {
   "cell_type": "code",
   "execution_count": 19,
   "metadata": {},
   "outputs": [],
   "source": [
    "#Criação de função que verifica se um numero é primo\n",
    "def is_Prime(number):\n",
    "    prime = 0\n",
    "    for n in range(2, (number)):\n",
    "        if (number % n) == 0:\n",
    "            prime = 1\n",
    "            break\n",
    "        else:\n",
    "            prime = 0\n",
    "    if prime == 0: \n",
    "        print(f\"{number} é número primo\")\n",
    "    else:\n",
    "        print(f\"{number} não é um numero primo\")"
   ]
  },
  {
   "cell_type": "code",
   "execution_count": 20,
   "metadata": {},
   "outputs": [
    {
     "name": "stdout",
     "output_type": "stream",
     "text": [
      "11 é número primo\n"
     ]
    }
   ],
   "source": [
    "#Entrada de dados e chamada de função\n",
    "number = int(input(\"Insira um numero: \"))\n",
    "is_Prime(number)"
   ]
  }
 ],
 "metadata": {
  "kernelspec": {
   "display_name": "Python 3",
   "language": "python",
   "name": "python3"
  },
  "language_info": {
   "codemirror_mode": {
    "name": "ipython",
    "version": 3
   },
   "file_extension": ".py",
   "mimetype": "text/x-python",
   "name": "python",
   "nbconvert_exporter": "python",
   "pygments_lexer": "ipython3",
   "version": "3.10.12"
  },
  "orig_nbformat": 4
 },
 "nbformat": 4,
 "nbformat_minor": 2
}
