{
 "cells": [
  {
   "cell_type": "markdown",
   "metadata": {},
   "source": [
    "# Seleção e Repetição"
   ]
  },
  {
   "cell_type": "markdown",
   "metadata": {},
   "source": [
    "## Verificação de idade"
   ]
  },
  {
   "cell_type": "code",
   "execution_count": 3,
   "metadata": {},
   "outputs": [],
   "source": [
    "#Aqui inicia a entrada de dados\n",
    "idade = int(input(\"Insira a idade para verificação: \"))"
   ]
  },
  {
   "cell_type": "code",
   "execution_count": 4,
   "metadata": {},
   "outputs": [],
   "source": [
    "#Aqui é criada a função que recebe um valor \"idade\" por parametro \n",
    "#e faz a verificação se o usuário é maior ou menor de idade de acordo com o dado informado ao programa\n",
    "def verificar_Idade(idade):\n",
    "    if idade >= 18:\n",
    "        print(\"Maior de idade!\")\n",
    "    elif idade > 0 and idade < 18:\n",
    "        print(\"Menor de idade\")\n",
    "    else: \n",
    "        print(\"Idade invalida, por favor tente novamente com uma idade válida: \")"
   ]
  },
  {
   "cell_type": "code",
   "execution_count": 5,
   "metadata": {},
   "outputs": [
    {
     "name": "stdout",
     "output_type": "stream",
     "text": [
      "Maior de idade!\n"
     ]
    }
   ],
   "source": [
    "#Aqui é chamada a função verificar_idade passando o dado informado por parametro pelo usuário\n",
    "verificar_Idade(idade)"
   ]
  }
 ],
 "metadata": {
  "kernelspec": {
   "display_name": "base",
   "language": "python",
   "name": "python3"
  },
  "language_info": {
   "codemirror_mode": {
    "name": "ipython",
    "version": 3
   },
   "file_extension": ".py",
   "mimetype": "text/x-python",
   "name": "python",
   "nbconvert_exporter": "python",
   "pygments_lexer": "ipython3",
   "version": "3.10.12"
  },
  "orig_nbformat": 4
 },
 "nbformat": 4,
 "nbformat_minor": 2
}
