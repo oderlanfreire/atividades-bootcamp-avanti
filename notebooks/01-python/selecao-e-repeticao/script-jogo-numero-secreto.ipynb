{
 "cells": [
  {
   "cell_type": "code",
   "execution_count": 30,
   "metadata": {},
   "outputs": [],
   "source": [
    "#Aqui é importada a função randint da biblioteca random e também é selecionado um numero secreto\n",
    "from random import randint\n",
    "numero_secreto = randint(1, 100)"
   ]
  },
  {
   "cell_type": "code",
   "execution_count": 31,
   "metadata": {},
   "outputs": [
    {
     "name": "stdout",
     "output_type": "stream",
     "text": [
      "valor invalido, tente novamente\n"
     ]
    }
   ],
   "source": [
    "#Aqui é feita a entrada de dados e verificado se é um dado valido, caso não seja é pedido ao usuário para inserir um novo dado\n",
    "sua_jogada = int(input(\"Insira um numero de 1 a 100 para tentar acertar o numero secreto: \"))\n",
    "valores_jogados = []\n",
    "if sua_jogada <= 0:\n",
    "    print(\"valor invalido, tente novamente\")\n",
    "    sua_jogada = int(input(\"Insira um numero de 1 a 100 para tentar acertar o numero secreto: \"))"
   ]
  },
  {
   "cell_type": "code",
   "execution_count": 32,
   "metadata": {},
   "outputs": [
    {
     "name": "stdout",
     "output_type": "stream",
     "text": [
      "frio\n",
      "frio\n",
      "frio\n",
      "frio\n",
      "morno\n",
      "quente\n",
      "morno\n",
      "muito quente\n",
      "muito quente\n",
      "Acertou! o numero secreto é 95\n",
      "valores jogados[10, 15, 50, 70, 80, 85, 83, 93, 94, 95]\n"
     ]
    }
   ],
   "source": [
    "#Aqui é feita a verificação para ver se o numero do usuario é o mesmo que foi sorteado, caso não seja, o usuario vai poder escolher outro nummero até acertar\n",
    "while sua_jogada != numero_secreto:\n",
    "    if sua_jogada > numero_secreto:\n",
    "        if (sua_jogada-numero_secreto) <= 5:\n",
    "            print(\"muito quente\")\n",
    "        elif (sua_jogada-numero_secreto) > 5 and (sua_jogada-numero_secreto) <=  10:\n",
    "            print(\"quente\")\n",
    "        elif(sua_jogada-numero_secreto) > 10 and (sua_jogada-numero_secreto) <=  15:\n",
    "            print(\"morno\")\n",
    "        else:\n",
    "            print(\"frio\")\n",
    "        valores_jogados.append(sua_jogada)\n",
    "        sua_jogada = int(input(\"Insira um numero de 1 a 100 para tentar acertar o numero secreto: \"))\n",
    "    elif numero_secreto > sua_jogada:\n",
    "        if (numero_secreto-sua_jogada) <= 5:\n",
    "            print(\"muito quente\")\n",
    "        elif (numero_secreto-sua_jogada) > 5 and (numero_secreto-sua_jogada) <=  10:\n",
    "            print(\"quente\")\n",
    "        elif(numero_secreto-sua_jogada) > 10 and (numero_secreto-sua_jogada) <=  15:\n",
    "            print(\"morno\")\n",
    "        else:\n",
    "            print(\"frio\")\n",
    "        valores_jogados.append(sua_jogada)\n",
    "        sua_jogada = int(input(\"Insira um numero de 1 a 100 para tentar acertar o numero secreto: \"))\n",
    "valores_jogados.append(sua_jogada)\n",
    "        \n",
    "print(f'Acertou! o numero secreto é {numero_secreto}')\n",
    "print(f\"valores jogados{valores_jogados}\")"
   ]
  }
 ],
 "metadata": {
  "kernelspec": {
   "display_name": "Python 3",
   "language": "python",
   "name": "python3"
  },
  "language_info": {
   "codemirror_mode": {
    "name": "ipython",
    "version": 3
   },
   "file_extension": ".py",
   "mimetype": "text/x-python",
   "name": "python",
   "nbconvert_exporter": "python",
   "pygments_lexer": "ipython3",
   "version": "3.10.12"
  },
  "orig_nbformat": 4
 },
 "nbformat": 4,
 "nbformat_minor": 2
}
