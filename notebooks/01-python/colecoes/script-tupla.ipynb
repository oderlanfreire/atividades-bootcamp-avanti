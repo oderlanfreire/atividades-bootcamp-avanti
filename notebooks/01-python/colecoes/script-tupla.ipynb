{
 "cells": [
  {
   "cell_type": "code",
   "execution_count": 17,
   "metadata": {},
   "outputs": [],
   "source": [
    "#Criação da tupla com alguns animais\n",
    "animals = (\"gato\", \"cachorro\", \"galinha\", \"papagaio\", \"tatu\", \"canario\", \"rato\", \"morcego\")"
   ]
  },
  {
   "cell_type": "code",
   "execution_count": 18,
   "metadata": {},
   "outputs": [],
   "source": [
    "#Entrada de dados do usuario e transformção da String para minusculo\n",
    "user_animal = input(\"Por favor, insira um tipo de animal e não utilize acentuação: \")\n",
    "user_animal = user_animal.lower()"
   ]
  },
  {
   "cell_type": "code",
   "execution_count": 19,
   "metadata": {},
   "outputs": [],
   "source": [
    "#Criação de função que verifica se o animal inserido pelo usuario está presente na tupla\n",
    "def verify_animals(user_animal):\n",
    "    if user_animal in animals: print(f'{user_animal} está na presente no banco de dados')\n",
    "    else: print(f'{user_animal} não encontrado no banco de dados')"
   ]
  },
  {
   "cell_type": "code",
   "execution_count": 20,
   "metadata": {},
   "outputs": [
    {
     "name": "stdout",
     "output_type": "stream",
     "text": [
      "ratazana não encontrado no banco de dados\n"
     ]
    }
   ],
   "source": [
    "#Chamada de Função\n",
    "verify_animals(user_animal)"
   ]
  }
 ],
 "metadata": {
  "kernelspec": {
   "display_name": "Python 3",
   "language": "python",
   "name": "python3"
  },
  "language_info": {
   "codemirror_mode": {
    "name": "ipython",
    "version": 3
   },
   "file_extension": ".py",
   "mimetype": "text/x-python",
   "name": "python",
   "nbconvert_exporter": "python",
   "pygments_lexer": "ipython3",
   "version": "3.10.12"
  },
  "orig_nbformat": 4
 },
 "nbformat": 4,
 "nbformat_minor": 2
}
